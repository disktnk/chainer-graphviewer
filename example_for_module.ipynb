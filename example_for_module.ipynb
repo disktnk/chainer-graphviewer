{
 "cells": [
  {
   "cell_type": "code",
   "execution_count": 1,
   "metadata": {},
   "outputs": [],
   "source": [
    "# install via pip+git\n",
    "# !pip install git+https://github.com/disktnk/chainer-graphviewer\n",
    "\n",
    "# required for this example\n",
    "# !pip install onnx chainer"
   ]
  },
  {
   "cell_type": "code",
   "execution_count": 2,
   "metadata": {},
   "outputs": [],
   "source": [
    "import chainer\n",
    "import chainer.functions as F\n",
    "import chainer.links as L\n",
    "import numpy\n",
    "\n",
    "# Network definition\n",
    "class Net(chainer.Chain):\n",
    "\n",
    "    def __init__(self):\n",
    "        super(Net, self).__init__()\n",
    "        with self.init_scope():\n",
    "            # the size of the inputs to each layer will be inferred\n",
    "            self.conv1 = L.Convolution2D(None, 10, ksize=5)\n",
    "            self.conv2 = L.Convolution2D(None, 20, ksize=5)\n",
    "            self.l1 = L.Linear(None, 50)\n",
    "            self.l2 = L.Linear(None, 10)\n",
    "\n",
    "    def forward(self, x):\n",
    "        x = F.relu(F.max_pooling_2d(self.conv1(x), 2))\n",
    "        x = F.relu(F.max_pooling_2d(self.conv2(x), 2))\n",
    "        x = F.relu(self.l1(x))\n",
    "        x = F.dropout(x)\n",
    "        return self.l2(x)"
   ]
  },
  {
   "cell_type": "code",
   "execution_count": 3,
   "metadata": {},
   "outputs": [
    {
     "data": {
      "text/html": [
       "\n",
       "        <iframe seamless style=\"width:960px;height:720px;border:0\" srcdoc=\"\n",
       "        <script>\n",
       "        function load() {\n",
       "            document.getElementById(&quot;graph0.27970527375239695&quot;).pbtxt = 'node {\\n  name: &quot;Variable0&quot;\\n  op: &quot;Variable&quot;\\n  attr {\\n    key: &quot;dtype&quot;\\n    value {\\n      type: DT_FLOAT\\n    }\\n  }\\n  attr {\\n    key: &quot;shpae&quot;\\n    value {\\n      shape {\\n        dim {\\n          size: 20\\n        }\\n      }\\n    }\\n  }\\n}\\nnode {\\n  name: &quot;Variable1&quot;\\n  op: &quot;VariableNode&quot;\\n  input: &quot;ReLU0&quot;\\n  attr {\\n    key: &quot;parameters&quot;\\n    value {\\n      s: &quot;(1, 10, 12, 12), float32&quot;\\n    }\\n  }\\n}\\nnode {\\n  name: &quot;Variable2&quot;\\n  op: &quot;Variable&quot;\\n  attr {\\n    key: &quot;dtype&quot;\\n    value {\\n      type: DT_FLOAT\\n    }\\n  }\\n  attr {\\n    key: &quot;shpae&quot;\\n    value {\\n      shape {\\n        dim {\\n          size: 10\\n        }\\n      }\\n    }\\n  }\\n}\\nnode {\\n  name: &quot;Variable3&quot;\\n  op: &quot;VariableNode&quot;\\n  input: &quot;MaxPooling2D0&quot;\\n  attr {\\n    key: &quot;parameters&quot;\\n    value {\\n      s: &quot;(1, 10, 12, 12), float32&quot;\\n    }\\n  }\\n}\\nnode {\\n  name: &quot;Reshape0&quot;\\n  op: &quot;Reshape&quot;\\n  input: &quot;Variable4&quot;\\n  attr {\\n    key: &quot;parameters&quot;\\n    value {\\n      s: &quot;Reshape&quot;\\n    }\\n  }\\n}\\nnode {\\n  name: &quot;ReLU1&quot;\\n  op: &quot;ReLU&quot;\\n  input: &quot;Variable5&quot;\\n  attr {\\n    key: &quot;parameters&quot;\\n    value {\\n      s: &quot;ReLU&quot;\\n    }\\n  }\\n}\\nnode {\\n  name: &quot;Variable6&quot;\\n  op: &quot;Variable&quot;\\n  attr {\\n    key: &quot;dtype&quot;\\n    value {\\n      type: DT_FLOAT\\n    }\\n  }\\n  attr {\\n    key: &quot;shpae&quot;\\n    value {\\n      shape {\\n        dim {\\n          size: 50\\n        }\\n        dim {\\n          size: 320\\n        }\\n      }\\n    }\\n  }\\n}\\nnode {\\n  name: &quot;Variable5&quot;\\n  op: &quot;VariableNode&quot;\\n  input: &quot;MaxPooling2D1&quot;\\n  attr {\\n    key: &quot;parameters&quot;\\n    value {\\n      s: &quot;(1, 20, 4, 4), float32&quot;\\n    }\\n  }\\n}\\nnode {\\n  name: &quot;Dropout0&quot;\\n  op: &quot;Dropout&quot;\\n  input: &quot;Variable7&quot;\\n  attr {\\n    key: &quot;parameters&quot;\\n    value {\\n      s: &quot;Dropout&quot;\\n    }\\n  }\\n}\\nnode {\\n  name: &quot;Variable4&quot;\\n  op: &quot;VariableNode&quot;\\n  input: &quot;ReLU1&quot;\\n  attr {\\n    key: &quot;parameters&quot;\\n    value {\\n      s: &quot;(1, 20, 4, 4), float32&quot;\\n    }\\n  }\\n}\\nnode {\\n  name: &quot;Variable8&quot;\\n  op: &quot;Variable&quot;\\n  attr {\\n    key: &quot;dtype&quot;\\n    value {\\n      type: DT_FLOAT\\n    }\\n  }\\n  attr {\\n    key: &quot;shpae&quot;\\n    value {\\n      shape {\\n        dim {\\n          size: 50\\n        }\\n      }\\n    }\\n  }\\n}\\nnode {\\n  name: &quot;ReLU2&quot;\\n  op: &quot;ReLU&quot;\\n  input: &quot;Variable9&quot;\\n  attr {\\n    key: &quot;parameters&quot;\\n    value {\\n      s: &quot;ReLU&quot;\\n    }\\n  }\\n}\\nnode {\\n  name: &quot;MaxPooling2D1&quot;\\n  op: &quot;MaxPooling2D&quot;\\n  input: &quot;Variable10&quot;\\n  attr {\\n    key: &quot;parameters&quot;\\n    value {\\n      s: &quot;MaxPooling2D&quot;\\n    }\\n  }\\n}\\nnode {\\n  name: &quot;Variable11&quot;\\n  op: &quot;VariableNode&quot;\\n  input: &quot;Reshape0&quot;\\n  attr {\\n    key: &quot;parameters&quot;\\n    value {\\n      s: &quot;(1, 320), float32&quot;\\n    }\\n  }\\n}\\nnode {\\n  name: &quot;Variable12&quot;\\n  op: &quot;Variable&quot;\\n  attr {\\n    key: &quot;dtype&quot;\\n    value {\\n      type: DT_FLOAT\\n    }\\n  }\\n  attr {\\n    key: &quot;shpae&quot;\\n    value {\\n      shape {\\n        dim {\\n          size: 10\\n        }\\n        dim {\\n          size: 50\\n        }\\n      }\\n    }\\n  }\\n}\\nnode {\\n  name: &quot;LinearFunction0&quot;\\n  op: &quot;LinearFunction&quot;\\n  input: &quot;Variable6&quot;\\n  input: &quot;Variable8&quot;\\n  input: &quot;Variable11&quot;\\n  attr {\\n    key: &quot;parameters&quot;\\n    value {\\n      s: &quot;LinearFunction&quot;\\n    }\\n  }\\n}\\nnode {\\n  name: &quot;Variable10&quot;\\n  op: &quot;VariableNode&quot;\\n  input: &quot;Convolution2DFunction0&quot;\\n  attr {\\n    key: &quot;parameters&quot;\\n    value {\\n      s: &quot;(1, 20, 8, 8), float32&quot;\\n    }\\n  }\\n}\\nnode {\\n  name: &quot;Variable9&quot;\\n  op: &quot;VariableNode&quot;\\n  input: &quot;LinearFunction0&quot;\\n  attr {\\n    key: &quot;parameters&quot;\\n    value {\\n      s: &quot;(1, 50), float32&quot;\\n    }\\n  }\\n}\\nnode {\\n  name: &quot;Variable13&quot;\\n  op: &quot;Variable&quot;\\n  attr {\\n    key: &quot;dtype&quot;\\n    value {\\n      type: DT_FLOAT\\n    }\\n  }\\n  attr {\\n    key: &quot;shpae&quot;\\n    value {\\n      shape {\\n        dim {\\n          size: 10\\n        }\\n      }\\n    }\\n  }\\n}\\nnode {\\n  name: &quot;Variable7&quot;\\n  op: &quot;VariableNode&quot;\\n  input: &quot;ReLU2&quot;\\n  attr {\\n    key: &quot;parameters&quot;\\n    value {\\n      s: &quot;(1, 50), float32&quot;\\n    }\\n  }\\n}\\nnode {\\n  name: &quot;Variable14&quot;\\n  op: &quot;Variable&quot;\\n  attr {\\n    key: &quot;dtype&quot;\\n    value {\\n      type: DT_INT32\\n    }\\n  }\\n  attr {\\n    key: &quot;shpae&quot;\\n    value {\\n      shape {\\n        dim {\\n          size: 1\\n        }\\n      }\\n    }\\n  }\\n}\\nnode {\\n  name: &quot;Convolution2DFunction0&quot;\\n  op: &quot;Convolution2DFunction&quot;\\n  input: &quot;Variable1&quot;\\n  input: &quot;Variable15&quot;\\n  input: &quot;Variable0&quot;\\n  attr {\\n    key: &quot;parameters&quot;\\n    value {\\n      s: &quot;Convolution2DFunction&quot;\\n    }\\n  }\\n}\\nnode {\\n  name: &quot;Variable16&quot;\\n  op: &quot;VariableNode&quot;\\n  input: &quot;Dropout0&quot;\\n  attr {\\n    key: &quot;parameters&quot;\\n    value {\\n      s: &quot;(1, 50), float32&quot;\\n    }\\n  }\\n}\\nnode {\\n  name: &quot;LinearFunction1&quot;\\n  op: &quot;LinearFunction&quot;\\n  input: &quot;Variable13&quot;\\n  input: &quot;Variable12&quot;\\n  input: &quot;Variable16&quot;\\n  attr {\\n    key: &quot;parameters&quot;\\n    value {\\n      s: &quot;LinearFunction&quot;\\n    }\\n  }\\n}\\nnode {\\n  name: &quot;Convolution2DFunction1&quot;\\n  op: &quot;Convolution2DFunction&quot;\\n  input: &quot;Variable2&quot;\\n  input: &quot;Variable17&quot;\\n  input: &quot;Variable18&quot;\\n  attr {\\n    key: &quot;parameters&quot;\\n    value {\\n      s: &quot;Convolution2DFunction&quot;\\n    }\\n  }\\n}\\nnode {\\n  name: &quot;SoftmaxCrossEntropy0&quot;\\n  op: &quot;FunctionAdapter&quot;\\n  input: &quot;Variable14&quot;\\n  input: &quot;Variable19&quot;\\n  attr {\\n    key: &quot;parameters&quot;\\n    value {\\n      s: &quot;SoftmaxCrossEntropy&quot;\\n    }\\n  }\\n}\\nnode {\\n  name: &quot;MaxPooling2D0&quot;\\n  op: &quot;MaxPooling2D&quot;\\n  input: &quot;Variable20&quot;\\n  attr {\\n    key: &quot;parameters&quot;\\n    value {\\n      s: &quot;MaxPooling2D&quot;\\n    }\\n  }\\n}\\nnode {\\n  name: &quot;ReLU0&quot;\\n  op: &quot;ReLU&quot;\\n  input: &quot;Variable3&quot;\\n  attr {\\n    key: &quot;parameters&quot;\\n    value {\\n      s: &quot;ReLU&quot;\\n    }\\n  }\\n}\\nnode {\\n  name: &quot;Variable17&quot;\\n  op: &quot;Variable&quot;\\n  attr {\\n    key: &quot;dtype&quot;\\n    value {\\n      type: DT_FLOAT\\n    }\\n  }\\n  attr {\\n    key: &quot;shpae&quot;\\n    value {\\n      shape {\\n        dim {\\n          size: 1\\n        }\\n        dim {\\n          size: 1\\n        }\\n        dim {\\n          size: 28\\n        }\\n        dim {\\n          size: 28\\n        }\\n      }\\n    }\\n  }\\n}\\nnode {\\n  name: &quot;Variable20&quot;\\n  op: &quot;VariableNode&quot;\\n  input: &quot;Convolution2DFunction1&quot;\\n  attr {\\n    key: &quot;parameters&quot;\\n    value {\\n      s: &quot;(1, 10, 24, 24), float32&quot;\\n    }\\n  }\\n}\\nnode {\\n  name: &quot;Variable19&quot;\\n  op: &quot;VariableNode&quot;\\n  input: &quot;LinearFunction1&quot;\\n  attr {\\n    key: &quot;parameters&quot;\\n    value {\\n      s: &quot;(1, 10), float32&quot;\\n    }\\n  }\\n}\\nnode {\\n  name: &quot;Variable18&quot;\\n  op: &quot;Variable&quot;\\n  attr {\\n    key: &quot;dtype&quot;\\n    value {\\n      type: DT_FLOAT\\n    }\\n  }\\n  attr {\\n    key: &quot;shpae&quot;\\n    value {\\n      shape {\\n        dim {\\n          size: 10\\n        }\\n        dim {\\n          size: 1\\n        }\\n        dim {\\n          size: 5\\n        }\\n        dim {\\n          size: 5\\n        }\\n      }\\n    }\\n  }\\n}\\nnode {\\n  name: &quot;Variable15&quot;\\n  op: &quot;Variable&quot;\\n  attr {\\n    key: &quot;dtype&quot;\\n    value {\\n      type: DT_FLOAT\\n    }\\n  }\\n  attr {\\n    key: &quot;shpae&quot;\\n    value {\\n      shape {\\n        dim {\\n          size: 20\\n        }\\n        dim {\\n          size: 10\\n        }\\n        dim {\\n          size: 5\\n        }\\n        dim {\\n          size: 5\\n        }\\n      }\\n    }\\n  }\\n}\\nnode {\\n  name: &quot;Variable21&quot;\\n  op: &quot;VariableNode&quot;\\n  input: &quot;SoftmaxCrossEntropy0&quot;\\n  attr {\\n    key: &quot;parameters&quot;\\n    value {\\n      s: &quot;float32&quot;\\n    }\\n  }\\n}\\n';\n",
       "        }\n",
       "        </script>\n",
       "        <link rel=&quot;import&quot; href=&quot;https://tensorboard.appspot.com/tf-graph-basic.build.html&quot;\n",
       "          onload=load()>\n",
       "        <div style=&quot;height:600px&quot;>\n",
       "        <tf-graph-basic id=&quot;graph0.27970527375239695&quot;></tf-graph-basic>\n",
       "        </div>\n",
       "    \"></iframe>\n",
       "    "
      ],
      "text/plain": [
       "<IPython.core.display.HTML object>"
      ]
     },
     "metadata": {},
     "output_type": "display_data"
    }
   ],
   "source": [
    "from graphviewer.notebook.show import show_graph\n",
    "from graphviewer.parser.chainer_graph import get_graphdef_from_model\n",
    "\n",
    "model = L.Classifier(Net())\n",
    "\n",
    "x = chainer.Variable(numpy.random.rand(1, 1, 28, 28).astype(numpy.float32))\n",
    "t = chainer.Variable(numpy.random.rand(1).astype(numpy.int32))\n",
    "\n",
    "gdef = get_graphdef_from_model(model, (x, t))\n",
    "show_graph(gdef)"
   ]
  },
  {
   "cell_type": "code",
   "execution_count": 4,
   "metadata": {},
   "outputs": [
    {
     "data": {
      "text/html": [
       "\n",
       "        <iframe seamless style=\"width:960px;height:720px;border:0\" srcdoc=\"\n",
       "        <script>\n",
       "        function load() {\n",
       "            document.getElementById(&quot;graph0.22759461705312345&quot;).pbtxt = 'node {\\n  name: &quot;Input3&quot;\\n  op: &quot;Variable&quot;\\n  attr {\\n    key: &quot;dtype&quot;\\n    value {\\n      type: DT_FLOAT\\n    }\\n  }\\n  attr {\\n    key: &quot;shape&quot;\\n    value {\\n      shape {\\n        dim {\\n          size: 1\\n        }\\n        dim {\\n          size: 1\\n        }\\n        dim {\\n          size: 28\\n        }\\n        dim {\\n          size: 28\\n        }\\n      }\\n    }\\n  }\\n}\\nnode {\\n  name: &quot;Parameter5&quot;\\n  op: &quot;Variable&quot;\\n  attr {\\n    key: &quot;dtype&quot;\\n    value {\\n      type: DT_FLOAT\\n    }\\n  }\\n  attr {\\n    key: &quot;shape&quot;\\n    value {\\n      shape {\\n        dim {\\n          size: 8\\n        }\\n        dim {\\n          size: 1\\n        }\\n        dim {\\n          size: 5\\n        }\\n        dim {\\n          size: 5\\n        }\\n      }\\n    }\\n  }\\n}\\nnode {\\n  name: &quot;Parameter6&quot;\\n  op: &quot;Variable&quot;\\n  attr {\\n    key: &quot;dtype&quot;\\n    value {\\n      type: DT_FLOAT\\n    }\\n  }\\n  attr {\\n    key: &quot;shape&quot;\\n    value {\\n      shape {\\n        dim {\\n          size: 8\\n        }\\n        dim {\\n          size: 1\\n        }\\n        dim {\\n          size: 1\\n        }\\n      }\\n    }\\n  }\\n}\\nnode {\\n  name: &quot;Parameter87&quot;\\n  op: &quot;Variable&quot;\\n  attr {\\n    key: &quot;dtype&quot;\\n    value {\\n      type: DT_FLOAT\\n    }\\n  }\\n  attr {\\n    key: &quot;shape&quot;\\n    value {\\n      shape {\\n        dim {\\n          size: 16\\n        }\\n        dim {\\n          size: 8\\n        }\\n        dim {\\n          size: 5\\n        }\\n        dim {\\n          size: 5\\n        }\\n      }\\n    }\\n  }\\n}\\nnode {\\n  name: &quot;Parameter88&quot;\\n  op: &quot;Variable&quot;\\n  attr {\\n    key: &quot;dtype&quot;\\n    value {\\n      type: DT_FLOAT\\n    }\\n  }\\n  attr {\\n    key: &quot;shape&quot;\\n    value {\\n      shape {\\n        dim {\\n          size: 16\\n        }\\n        dim {\\n          size: 1\\n        }\\n        dim {\\n          size: 1\\n        }\\n      }\\n    }\\n  }\\n}\\nnode {\\n  name: &quot;Pooling160_Output_0_reshape0_shape&quot;\\n  op: &quot;Variable&quot;\\n  attr {\\n    key: &quot;dtype&quot;\\n    value {\\n      type: DT_STRING\\n    }\\n  }\\n  attr {\\n    key: &quot;shape&quot;\\n    value {\\n      shape {\\n        dim {\\n          size: 2\\n        }\\n      }\\n    }\\n  }\\n}\\nnode {\\n  name: &quot;Parameter193&quot;\\n  op: &quot;Variable&quot;\\n  attr {\\n    key: &quot;dtype&quot;\\n    value {\\n      type: DT_FLOAT\\n    }\\n  }\\n  attr {\\n    key: &quot;shape&quot;\\n    value {\\n      shape {\\n        dim {\\n          size: 16\\n        }\\n        dim {\\n          size: 4\\n        }\\n        dim {\\n          size: 4\\n        }\\n        dim {\\n          size: 10\\n        }\\n      }\\n    }\\n  }\\n}\\nnode {\\n  name: &quot;Parameter193_reshape1_shape&quot;\\n  op: &quot;Variable&quot;\\n  attr {\\n    key: &quot;dtype&quot;\\n    value {\\n      type: DT_STRING\\n    }\\n  }\\n  attr {\\n    key: &quot;shape&quot;\\n    value {\\n      shape {\\n        dim {\\n          size: 2\\n        }\\n      }\\n    }\\n  }\\n}\\nnode {\\n  name: &quot;Parameter194&quot;\\n  op: &quot;Variable&quot;\\n  attr {\\n    key: &quot;dtype&quot;\\n    value {\\n      type: DT_FLOAT\\n    }\\n  }\\n  attr {\\n    key: &quot;shape&quot;\\n    value {\\n      shape {\\n        dim {\\n          size: 1\\n        }\\n        dim {\\n          size: 10\\n        }\\n      }\\n    }\\n  }\\n}\\nnode {\\n  name: &quot;Plus214_Output_0&quot;\\n  op: &quot;Variable&quot;\\n  attr {\\n    key: &quot;dtype&quot;\\n    value {\\n      type: DT_FLOAT\\n    }\\n  }\\n  attr {\\n    key: &quot;shape&quot;\\n    value {\\n      shape {\\n        dim {\\n          size: 1\\n        }\\n        dim {\\n          size: 10\\n        }\\n      }\\n    }\\n  }\\n}\\nnode {\\n  name: &quot;Parameter193_reshape1&quot;\\n  op: &quot;Reshape&quot;\\n  input: &quot;Parameter193&quot;\\n  input: &quot;Parameter193_reshape1_shape&quot;\\n  attr {\\n    key: &quot;parameters&quot;\\n    value {\\n      s: &quot;&quot;\\n    }\\n  }\\n}\\nnode {\\n  name: &quot;Convolution28_Output_0&quot;\\n  op: &quot;Conv&quot;\\n  input: &quot;Input3&quot;\\n  input: &quot;Parameter5&quot;\\n  attr {\\n    key: &quot;parameters&quot;\\n    value {\\n      s: &quot;kernel_shape = [5, 5] = 7, strides = [1, 1] = 7, auto_pad = b\\\\\\'SAME_UPPER\\\\\\' = 3, group = 1 = 2, dilations = [1, 1] = 7&quot;\\n    }\\n  }\\n}\\nnode {\\n  name: &quot;Plus30_Output_0&quot;\\n  op: &quot;Add&quot;\\n  input: &quot;Convolution28_Output_0&quot;\\n  input: &quot;Parameter6&quot;\\n  attr {\\n    key: &quot;parameters&quot;\\n    value {\\n      s: &quot;&quot;\\n    }\\n  }\\n}\\nnode {\\n  name: &quot;ReLU32_Output_0&quot;\\n  op: &quot;Relu&quot;\\n  input: &quot;Plus30_Output_0&quot;\\n  attr {\\n    key: &quot;parameters&quot;\\n    value {\\n      s: &quot;&quot;\\n    }\\n  }\\n}\\nnode {\\n  name: &quot;Pooling66_Output_0&quot;\\n  op: &quot;MaxPool&quot;\\n  input: &quot;ReLU32_Output_0&quot;\\n  attr {\\n    key: &quot;parameters&quot;\\n    value {\\n      s: &quot;kernel_shape = [2, 2] = 7, strides = [2, 2] = 7, pads = [0, 0, 0, 0] = 7, auto_pad = b\\\\\\'NOTSET\\\\\\' = 3&quot;\\n    }\\n  }\\n}\\nnode {\\n  name: &quot;Convolution110_Output_0&quot;\\n  op: &quot;Conv&quot;\\n  input: &quot;Pooling66_Output_0&quot;\\n  input: &quot;Parameter87&quot;\\n  attr {\\n    key: &quot;parameters&quot;\\n    value {\\n      s: &quot;kernel_shape = [5, 5] = 7, strides = [1, 1] = 7, auto_pad = b\\\\\\'SAME_UPPER\\\\\\' = 3, group = 1 = 2, dilations = [1, 1] = 7&quot;\\n    }\\n  }\\n}\\nnode {\\n  name: &quot;Plus112_Output_0&quot;\\n  op: &quot;Add&quot;\\n  input: &quot;Convolution110_Output_0&quot;\\n  input: &quot;Parameter88&quot;\\n  attr {\\n    key: &quot;parameters&quot;\\n    value {\\n      s: &quot;&quot;\\n    }\\n  }\\n}\\nnode {\\n  name: &quot;ReLU114_Output_0&quot;\\n  op: &quot;Relu&quot;\\n  input: &quot;Plus112_Output_0&quot;\\n  attr {\\n    key: &quot;parameters&quot;\\n    value {\\n      s: &quot;&quot;\\n    }\\n  }\\n}\\nnode {\\n  name: &quot;Pooling160_Output_0&quot;\\n  op: &quot;MaxPool&quot;\\n  input: &quot;ReLU114_Output_0&quot;\\n  attr {\\n    key: &quot;parameters&quot;\\n    value {\\n      s: &quot;kernel_shape = [3, 3] = 7, strides = [3, 3] = 7, pads = [0, 0, 0, 0] = 7, auto_pad = b\\\\\\'NOTSET\\\\\\' = 3&quot;\\n    }\\n  }\\n}\\nnode {\\n  name: &quot;Pooling160_Output_0_reshape0&quot;\\n  op: &quot;Reshape&quot;\\n  input: &quot;Pooling160_Output_0&quot;\\n  input: &quot;Pooling160_Output_0_reshape0_shape&quot;\\n  attr {\\n    key: &quot;parameters&quot;\\n    value {\\n      s: &quot;&quot;\\n    }\\n  }\\n}\\nnode {\\n  name: &quot;Times212_Output_0&quot;\\n  op: &quot;MatMul&quot;\\n  input: &quot;Pooling160_Output_0_reshape0&quot;\\n  input: &quot;Parameter193_reshape1&quot;\\n  attr {\\n    key: &quot;parameters&quot;\\n    value {\\n      s: &quot;&quot;\\n    }\\n  }\\n}\\nnode {\\n  name: &quot;Plus214_Output_0&quot;\\n  op: &quot;Add&quot;\\n  input: &quot;Times212_Output_0&quot;\\n  input: &quot;Parameter194&quot;\\n  attr {\\n    key: &quot;parameters&quot;\\n    value {\\n      s: &quot;&quot;\\n    }\\n  }\\n}\\n';\n",
       "        }\n",
       "        </script>\n",
       "        <link rel=&quot;import&quot; href=&quot;https://tensorboard.appspot.com/tf-graph-basic.build.html&quot;\n",
       "          onload=load()>\n",
       "        <div style=&quot;height:600px&quot;>\n",
       "        <tf-graph-basic id=&quot;graph0.22759461705312345&quot;></tf-graph-basic>\n",
       "        </div>\n",
       "    \"></iframe>\n",
       "    "
      ],
      "text/plain": [
       "<IPython.core.display.HTML object>"
      ]
     },
     "metadata": {},
     "output_type": "display_data"
    }
   ],
   "source": [
    "from graphviewer.notebook.show import show_graph\n",
    "from graphviewer.parser.onnx_graph import get_graphdef_from_file\n",
    "\n",
    "gdef = get_graphdef_from_file('model.onnx')\n",
    "show_graph(gdef)"
   ]
  }
 ],
 "metadata": {
  "kernelspec": {
   "display_name": "Python 3",
   "language": "python",
   "name": "python3"
  },
  "language_info": {
   "codemirror_mode": {
    "name": "ipython",
    "version": 3
   },
   "file_extension": ".py",
   "mimetype": "text/x-python",
   "name": "python",
   "nbconvert_exporter": "python",
   "pygments_lexer": "ipython3",
   "version": "3.6.7"
  }
 },
 "nbformat": 4,
 "nbformat_minor": 2
}
